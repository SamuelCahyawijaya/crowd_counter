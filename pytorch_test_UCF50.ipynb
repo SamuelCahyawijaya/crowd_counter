{
 "cells": [
  {
   "cell_type": "code",
   "execution_count": 33,
   "metadata": {},
   "outputs": [],
   "source": [
    "%matplotlib inline\n",
    "\n",
    "import torch\n",
    "import torch.nn.functional as F\n",
    "from torch.utils import data\n",
    "from torch.autograd import Variable\n",
    "from torchvision import models\n",
    "import h5py\n",
    "import json\n",
    "\n",
    "from preprocessing import *\n",
    "from crowdnet_pytorch import CrowdNet"
   ]
  },
  {
   "cell_type": "code",
   "execution_count": 24,
   "metadata": {},
   "outputs": [],
   "source": [
    "model_name = 'cc_epoch_15.mdl'\n",
    "model_path = os.path.expanduser(os.path.join('./models/demo_dcc_crowdnet', model_name))\n",
    "dataset_path = 'dataset/UCF_CC_50/'"
   ]
  },
  {
   "cell_type": "code",
   "execution_count": 25,
   "metadata": {},
   "outputs": [
    {
     "name": "stdout",
     "output_type": "stream",
     "text": [
      "dataset/UCF_CC_50/37.json\n",
      "dataset/UCF_CC_50/20.json\n",
      "dataset/UCF_CC_50/20.json 62.50520805512529 637.2357512953367 (<class 'IndexError'>, IndexError('index 637 is out of bounds for axis 1 with size 600',), <traceback object at 0x7fbbef7f2848>)\n",
      "dataset/UCF_CC_50/36.json\n",
      "dataset/UCF_CC_50/8.json\n",
      "dataset/UCF_CC_50/3.json\n",
      "dataset/UCF_CC_50/15.json\n",
      "dataset/UCF_CC_50/43.json\n",
      "dataset/UCF_CC_50/19.json\n",
      "dataset/UCF_CC_50/41.json\n",
      "dataset/UCF_CC_50/26.json\n",
      "dataset/UCF_CC_50/47.json\n",
      "dataset/UCF_CC_50/34.json\n",
      "dataset/UCF_CC_50/11.json\n",
      "dataset/UCF_CC_50/44.json\n",
      "dataset/UCF_CC_50/1.json\n",
      "dataset/UCF_CC_50/1.json 149.34820247110426 984.2566389281416 (<class 'IndexError'>, IndexError('index 984 is out of bounds for axis 1 with size 984',), <traceback object at 0x7fbbef7f2e88>)\n",
      "dataset/UCF_CC_50/1.json 533.5036428856122 984.2566389281419 (<class 'IndexError'>, IndexError('index 984 is out of bounds for axis 1 with size 984',), <traceback object at 0x7fbbef7f2e88>)\n",
      "dataset/UCF_CC_50/5.json\n",
      "dataset/UCF_CC_50/ 16 img loaded\n",
      "dataset/UCF_CC_50/ 16 den loaded\n"
     ]
    }
   ],
   "source": [
    "images, gts, densities = load_images_and_gts(dataset_path)"
   ]
  },
  {
   "cell_type": "code",
   "execution_count": 51,
   "metadata": {},
   "outputs": [],
   "source": [
    "model = CrowdNet()\n",
    "model.load_state_dict(torch.load(model_path))\n",
    "if torch.cuda.is_available():\n",
    "    model.cuda()"
   ]
  },
  {
   "cell_type": "code",
   "execution_count": 52,
   "metadata": {},
   "outputs": [
    {
     "name": "stdout",
     "output_type": "stream",
     "text": [
      "(1, 3, 768, 1024)\n"
     ]
    }
   ],
   "source": [
    "print(images[0].reshape(1, images[0].shape[2], images[0].shape[0], -1).shape)"
   ]
  },
  {
   "cell_type": "code",
   "execution_count": 60,
   "metadata": {},
   "outputs": [],
   "source": [
    "input_img = Variable(torch.Tensor(images[0].reshape(1, images[0].shape[2], images[0].shape[0], -1)))\n",
    "if torch.cuda.is_available():\n",
    "    input_img.cuda()\n",
    "    \n",
    "predicted = model(input_img)"
   ]
  },
  {
   "cell_type": "code",
   "execution_count": 61,
   "metadata": {},
   "outputs": [
    {
     "name": "stdout",
     "output_type": "stream",
     "text": [
      "7356.073717046122 917\n"
     ]
    }
   ],
   "source": [
    "print(predicted.data.sum(), gts[0].sum())"
   ]
  },
  {
   "cell_type": "code",
   "execution_count": null,
   "metadata": {},
   "outputs": [],
   "source": []
  }
 ],
 "metadata": {
  "kernelspec": {
   "display_name": "Python [conda env:py36]",
   "language": "python",
   "name": "conda-env-py36-py"
  },
  "language_info": {
   "codemirror_mode": {
    "name": "ipython",
    "version": 3
   },
   "file_extension": ".py",
   "mimetype": "text/x-python",
   "name": "python",
   "nbconvert_exporter": "python",
   "pygments_lexer": "ipython3",
   "version": "3.6.3"
  }
 },
 "nbformat": 4,
 "nbformat_minor": 2
}
