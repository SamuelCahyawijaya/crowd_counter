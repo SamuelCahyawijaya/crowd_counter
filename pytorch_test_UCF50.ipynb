{
 "cells": [
  {
   "cell_type": "code",
   "execution_count": 1,
   "metadata": {},
   "outputs": [
    {
     "name": "stderr",
     "output_type": "stream",
     "text": [
      "/usr/local/Cellar/python3/3.6.1/Frameworks/Python.framework/Versions/3.6/lib/python3.6/site-packages/h5py/__init__.py:36: FutureWarning: Conversion of the second argument of issubdtype from `float` to `np.floating` is deprecated. In future, it will be treated as `np.float64 == np.dtype(float).type`.\n",
      "  from ._conv import register_converters as _register_converters\n"
     ]
    }
   ],
   "source": [
    "%matplotlib inline\n",
    "\n",
    "import torch\n",
    "import torch.nn.functional as F\n",
    "from torch.utils import data\n",
    "from torch.autograd import Variable\n",
    "from torchvision import models\n",
    "import h5py\n",
    "import json\n",
    "\n",
    "from preprocessing import *\n",
    "from crowdnet_pytorch import CrowdNet"
   ]
  },
  {
   "cell_type": "code",
   "execution_count": 2,
   "metadata": {},
   "outputs": [],
   "source": [
    "model_name = 'cc_epoch_15.mdl'\n",
    "model_path = os.path.expanduser(os.path.join('./models/demo_dcc_crowdnet', model_name))\n",
    "dataset_path = 'dataset/UCF_CC_50/'"
   ]
  },
  {
   "cell_type": "code",
   "execution_count": 3,
   "metadata": {},
   "outputs": [
    {
     "name": "stdout",
     "output_type": "stream",
     "text": [
      "dataset/UCF_CC_50/20.json\n",
      "dataset/UCF_CC_50/20.json 62.50520805512529 637.2357512953367 (<class 'IndexError'>, IndexError('index 637 is out of bounds for axis 1 with size 600',), <traceback object at 0x112289e88>)\n",
      "dataset/UCF_CC_50/36.json\n",
      "dataset/UCF_CC_50/41.json\n",
      "dataset/UCF_CC_50/16.json\n",
      "dataset/UCF_CC_50/6.json\n",
      "dataset/UCF_CC_50/7.json\n",
      "dataset/UCF_CC_50/17.json\n",
      "dataset/UCF_CC_50/17.json 395.77461139896366 1024.3341968911911 (<class 'IndexError'>, IndexError('index 1024 is out of bounds for axis 1 with size 1024',), <traceback object at 0x1122862c8>)\n",
      "dataset/UCF_CC_50/40.json\n",
      "dataset/UCF_CC_50/37.json\n",
      "dataset/UCF_CC_50/21.json\n",
      "dataset/UCF_CC_50/47.json\n",
      "dataset/UCF_CC_50/10.json\n",
      "dataset/UCF_CC_50/26.json\n",
      "dataset/UCF_CC_50/30.json\n",
      "dataset/UCF_CC_50/31.json\n",
      "dataset/UCF_CC_50/27.json\n",
      "dataset/UCF_CC_50/1.json\n",
      "dataset/UCF_CC_50/1.json 149.34820247110426 984.2566389281416 (<class 'IndexError'>, IndexError('index 984 is out of bounds for axis 1 with size 984',), <traceback object at 0x112286648>)\n",
      "dataset/UCF_CC_50/1.json 533.5036428856122 984.2566389281419 (<class 'IndexError'>, IndexError('index 984 is out of bounds for axis 1 with size 984',), <traceback object at 0x112286648>)\n",
      "dataset/UCF_CC_50/50.json\n",
      "dataset/UCF_CC_50/11.json\n",
      "dataset/UCF_CC_50/46.json\n",
      "dataset/UCF_CC_50/2.json\n",
      "dataset/UCF_CC_50/28.json\n",
      "dataset/UCF_CC_50/12.json\n",
      "dataset/UCF_CC_50/45.json\n",
      "dataset/UCF_CC_50/32.json\n",
      "dataset/UCF_CC_50/24.json\n",
      "dataset/UCF_CC_50/49.json\n",
      "dataset/UCF_CC_50/48.json\n",
      "dataset/UCF_CC_50/25.json\n",
      "dataset/UCF_CC_50/33.json\n",
      "dataset/UCF_CC_50/44.json\n",
      "dataset/UCF_CC_50/13.json\n",
      "dataset/UCF_CC_50/29.json\n",
      "dataset/UCF_CC_50/3.json\n",
      "dataset/UCF_CC_50/34.json\n",
      "dataset/UCF_CC_50/8.json\n",
      "dataset/UCF_CC_50/22.json\n",
      "dataset/UCF_CC_50/18.json\n",
      "dataset/UCF_CC_50/38.json\n",
      "dataset/UCF_CC_50/4.json\n",
      "dataset/UCF_CC_50/14.json\n",
      "dataset/UCF_CC_50/43.json\n",
      "dataset/UCF_CC_50/42.json\n",
      "dataset/UCF_CC_50/15.json\n",
      "dataset/UCF_CC_50/5.json\n",
      "dataset/UCF_CC_50/39.json\n",
      "dataset/UCF_CC_50/19.json\n",
      "dataset/UCF_CC_50/23.json\n",
      "dataset/UCF_CC_50/9.json\n",
      "dataset/UCF_CC_50/35.json\n",
      "dataset/UCF_CC_50/ 50 img loaded\n",
      "dataset/UCF_CC_50/ 50 den loaded\n"
     ]
    }
   ],
   "source": [
    "images, gts, gts_count, densities = load_images_and_gts(dataset_path)"
   ]
  },
  {
   "cell_type": "code",
   "execution_count": 5,
   "metadata": {},
   "outputs": [],
   "source": [
    "model = CrowdNet()\n",
    "# model.load_state_dict(torch.load(model_path))\n",
    "if torch.cuda.is_available():\n",
    "    model.cuda()"
   ]
  },
  {
   "cell_type": "code",
   "execution_count": 6,
   "metadata": {},
   "outputs": [
    {
     "name": "stdout",
     "output_type": "stream",
     "text": [
      "(1, 3, 384, 600)\n"
     ]
    }
   ],
   "source": [
    "print(images[0].reshape(1, images[0].shape[2], images[0].shape[0], -1).shape)"
   ]
  },
  {
   "cell_type": "code",
   "execution_count": 7,
   "metadata": {},
   "outputs": [],
   "source": [
    "input_img = Variable(torch.Tensor(images[0].reshape(1, images[0].shape[2], images[0].shape[0], -1)))\n",
    "if torch.cuda.is_available():\n",
    "    input_img.cuda()\n",
    "    \n",
    "predicted = model(input_img)"
   ]
  },
  {
   "cell_type": "code",
   "execution_count": 9,
   "metadata": {},
   "outputs": [
    {
     "name": "stdout",
     "output_type": "stream",
     "text": [
      "-11809.106125712395 2706\n"
     ]
    }
   ],
   "source": [
    "print(predicted.data.sum(), gts_count[0])"
   ]
  },
  {
   "cell_type": "code",
   "execution_count": null,
   "metadata": {},
   "outputs": [],
   "source": []
  }
 ],
 "metadata": {
  "kernelspec": {
   "display_name": "Python 3",
   "language": "python",
   "name": "python3"
  },
  "language_info": {
   "codemirror_mode": {
    "name": "ipython",
    "version": 3
   },
   "file_extension": ".py",
   "mimetype": "text/x-python",
   "name": "python",
   "nbconvert_exporter": "python",
   "pygments_lexer": "ipython3",
   "version": "3.6.1"
  }
 },
 "nbformat": 4,
 "nbformat_minor": 2
}
