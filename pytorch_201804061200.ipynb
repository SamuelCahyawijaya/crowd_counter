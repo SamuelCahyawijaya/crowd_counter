{
 "cells": [
  {
   "cell_type": "code",
   "execution_count": 1,
   "metadata": {},
   "outputs": [
    {
     "name": "stderr",
     "output_type": "stream",
     "text": [
      "/home/samuel_cahyawijaya/anaconda2/envs/py36/lib/python3.6/site-packages/h5py/__init__.py:36: FutureWarning: Conversion of the second argument of issubdtype from `float` to `np.floating` is deprecated. In future, it will be treated as `np.float64 == np.dtype(float).type`.\n",
      "  from ._conv import register_converters as _register_converters\n"
     ]
    }
   ],
   "source": [
    "%matplotlib inline\n",
    "\n",
    "import os\n",
    "import numpy as np\n",
    "import glob\n",
    "import random\n",
    "from tqdm import tqdm\n",
    "import datetime\n",
    "\n",
    "import torch\n",
    "from torch.utils import data\n",
    "from torch.autograd import Variable\n",
    "from torch import optim\n",
    "import torch.nn as nn\n",
    "import torch.nn.functional as F\n",
    "from torchvision import models\n",
    "\n",
    "from visualize import *\n",
    "from crowdnet_pytorch import CrowdNet\n",
    "from hdf5_dataset import HDF5Dataset"
   ]
  },
  {
   "cell_type": "code",
   "execution_count": 2,
   "metadata": {},
   "outputs": [],
   "source": [
    "model_name = 'demo_dcc_crowdnet'\n",
    "model_path = os.path.expanduser(os.path.join('./models', model_name))\n",
    "data_path = os.path.expanduser(os.path.join('./data', model_name))"
   ]
  },
  {
   "cell_type": "code",
   "execution_count": 3,
   "metadata": {},
   "outputs": [],
   "source": [
    "model = CrowdNet(True)\n",
    "if torch.cuda.is_available():\n",
    "    model.cuda()"
   ]
  },
  {
   "cell_type": "code",
   "execution_count": 4,
   "metadata": {},
   "outputs": [
    {
     "name": "stdout",
     "output_type": "stream",
     "text": [
      "CrowdNet(\n",
      "  (deep_network): Sequential(\n",
      "    (0): Conv2d(3, 64, kernel_size=(3, 3), stride=(1, 1), padding=(1, 1))\n",
      "    (1): ReLU(inplace)\n",
      "    (2): Conv2d(64, 64, kernel_size=(3, 3), stride=(1, 1), padding=(1, 1))\n",
      "    (3): ReLU(inplace)\n",
      "    (4): MaxPool2d(kernel_size=(2, 2), stride=(2, 2), dilation=(1, 1), ceil_mode=False)\n",
      "    (5): Conv2d(64, 128, kernel_size=(3, 3), stride=(1, 1), padding=(1, 1))\n",
      "    (6): ReLU(inplace)\n",
      "    (7): Conv2d(128, 128, kernel_size=(3, 3), stride=(1, 1), padding=(1, 1))\n",
      "    (8): ReLU(inplace)\n",
      "    (9): MaxPool2d(kernel_size=(2, 2), stride=(2, 2), dilation=(1, 1), ceil_mode=False)\n",
      "    (10): Conv2d(128, 256, kernel_size=(3, 3), stride=(1, 1), padding=(1, 1))\n",
      "    (11): ReLU(inplace)\n",
      "    (12): Conv2d(256, 256, kernel_size=(3, 3), stride=(1, 1), padding=(1, 1))\n",
      "    (13): ReLU(inplace)\n",
      "    (14): Conv2d(256, 256, kernel_size=(3, 3), stride=(1, 1), padding=(1, 1))\n",
      "    (15): ReLU(inplace)\n",
      "    (16): MaxPool2d(kernel_size=(2, 2), stride=(2, 2), dilation=(1, 1), ceil_mode=False)\n",
      "    (17): Conv2d(256, 512, kernel_size=(3, 3), stride=(1, 1), padding=(1, 1))\n",
      "    (18): ReLU(inplace)\n",
      "    (19): Conv2d(512, 512, kernel_size=(3, 3), stride=(1, 1), padding=(1, 1))\n",
      "    (20): ReLU(inplace)\n",
      "    (21): Conv2d(512, 512, kernel_size=(3, 3), stride=(1, 1), padding=(1, 1))\n",
      "    (22): ReLU(inplace)\n",
      "    (23): MaxPool2d(kernel_size=(2, 2), stride=(1, 1), dilation=(1, 1), ceil_mode=False)\n",
      "    (24): Conv2d(512, 512, kernel_size=(3, 3), stride=(1, 1), padding=(1, 1))\n",
      "    (25): ReLU(inplace)\n",
      "    (26): Conv2d(512, 512, kernel_size=(3, 3), stride=(1, 1), padding=(1, 1))\n",
      "    (27): ReLU(inplace)\n",
      "    (28): Conv2d(512, 512, kernel_size=(3, 3), stride=(1, 1), padding=(1, 1))\n",
      "    (29): ReLU(inplace)\n",
      "  )\n",
      "  (shallow_network): Sequential(\n",
      "    (0): Conv2d(3, 24, kernel_size=(5, 5), stride=(1, 1), padding=(3, 3))\n",
      "    (1): ReLU()\n",
      "    (2): MaxPool2d(kernel_size=(5, 5), stride=(2, 2), dilation=(1, 1), ceil_mode=False)\n",
      "    (3): Conv2d(24, 24, kernel_size=(5, 5), stride=(1, 1), padding=(3, 3))\n",
      "    (4): ReLU()\n",
      "    (5): MaxPool2d(kernel_size=(5, 5), stride=(2, 2), dilation=(1, 1), ceil_mode=False)\n",
      "    (6): Conv2d(24, 24, kernel_size=(5, 5), stride=(1, 1), padding=(3, 3))\n",
      "    (7): ReLU()\n",
      "    (8): MaxPool2d(kernel_size=(5, 5), stride=(2, 2), dilation=(1, 1), ceil_mode=False)\n",
      "  )\n",
      "  (conv1d): Conv2d(536, 1, kernel_size=(1, 1), stride=(1, 1))\n",
      ")\n"
     ]
    }
   ],
   "source": [
    "print(model)"
   ]
  },
  {
   "cell_type": "code",
   "execution_count": 5,
   "metadata": {},
   "outputs": [],
   "source": [
    "hdf5_train_ds = HDF5Dataset(os.path.join(data_path,'train.txt'))\n",
    "hdf5_train_loader = data.DataLoader(dataset=hdf5_train_ds, batch_size=32, shuffle=False)"
   ]
  },
  {
   "cell_type": "code",
   "execution_count": 6,
   "metadata": {},
   "outputs": [],
   "source": [
    "hdf5_test_ds = HDF5Dataset(os.path.join(data_path,'test.txt'))\n",
    "hdf5_test_loader = data.DataLoader(dataset=hdf5_test_ds, batch_size=32, shuffle=False)"
   ]
  },
  {
   "cell_type": "code",
   "execution_count": 7,
   "metadata": {
    "scrolled": true
   },
   "outputs": [
    {
     "name": "stdout",
     "output_type": "stream",
     "text": [
      "(3, 225, 225)\n",
      "(27, 27)\n",
      "(3, 225, 225)\n",
      "(27, 27)\n",
      "(3, 225, 225)\n",
      "(27, 27)\n",
      "(3, 225, 225)\n",
      "(27, 27)\n",
      "(3, 225, 225)\n",
      "(27, 27)\n",
      "(3, 225, 225)\n",
      "(27, 27)\n"
     ]
    },
    {
     "data": {
      "image/png": "[encoded data removed]",
      "text/plain": [
       "<matplotlib.figure.Figure at 0x7f97091e2048>"
      ]
     },
     "metadata": {},
     "output_type": "display_data"
    },
    {
     "data": {
      "image/png": "[encoded data removed]",
      "text/plain": [
       "<matplotlib.figure.Figure at 0x7f97062eb4a8>"
      ]
     },
     "metadata": {},
     "output_type": "display_data"
    },
    {
     "data": {
      "image/png": "[encoded data removed]",
      "text/plain": [
       "<matplotlib.figure.Figure at 0x7f97062abe80>"
      ]
     },
     "metadata": {},
     "output_type": "display_data"
    },
    {
     "data": {
      "image/png": "[encoded data removed]",
      "text/plain": [
       "<matplotlib.figure.Figure at 0x7f9706268b70>"
      ]
     },
     "metadata": {},
     "output_type": "display_data"
    },
    {
     "data": {
      "image/png": "[encoded data removed]",
      "text/plain": [
       "<matplotlib.figure.Figure at 0x7f9706228a90>"
      ]
     },
     "metadata": {},
     "output_type": "display_data"
    },
    {
     "data": {
      "image/png": "[encoded data removed]",
      "text/plain": [
       "<matplotlib.figure.Figure at 0x7f97061e9358>"
      ]
     },
     "metadata": {},
     "output_type": "display_data"
    }
   ],
   "source": [
    "for i in range(3):\n",
    "    X_train, Y_train = hdf5_train_ds[i]\n",
    "    X_test, Y_test = hdf5_test_ds[i]\n",
    "    print(X_train.shape)\n",
    "    print(Y_train.shape)\n",
    "    print(X_test.shape)\n",
    "    print(Y_test.shape)\n",
    "    \n",
    "    plt.figure()\n",
    "    plt.imshow(Y_train)\n",
    "    plt.figure()\n",
    "    plt.imshow(Y_test)"
   ]
  },
  {
   "cell_type": "code",
   "execution_count": 12,
   "metadata": {},
   "outputs": [],
   "source": [
    "lr = 0.001\n",
    "optimizer = optim.Adam(model.parameters(), lr=lr)\n",
    "criterion = nn.MSELoss()\n",
    "metric = nn.L1Loss()"
   ]
  },
  {
   "cell_type": "code",
   "execution_count": 14,
   "metadata": {},
   "outputs": [
    {
     "name": "stderr",
     "output_type": "stream",
     "text": [
      "\n",
      "  0%|          | 0/273 [00:00<?, ?it/s]\u001b[A"
     ]
    },
    {
     "name": "stdout",
     "output_type": "stream",
     "text": [
      "2018-04-26\n",
      "== epoch 11 ==\n"
     ]
    },
    {
     "name": "stderr",
     "output_type": "stream",
     "text": [
      "\n",
      "L:73.89177: 100%|██████████| 273/273 [07:32<00:00,  1.66s/it]\n"
     ]
    },
    {
     "name": "stdout",
     "output_type": "stream",
     "text": [
      "MSE Loss : 73.89176872372627\n"
     ]
    },
    {
     "name": "stderr",
     "output_type": "stream",
     "text": [
      "MAE:4.3377: 100%|██████████| 15/15 [00:08<00:00,  1.85it/s]\n",
      "  0%|          | 0/273 [00:00<?, ?it/s]"
     ]
    },
    {
     "name": "stdout",
     "output_type": "stream",
     "text": [
      "MAE Metric : 4.337674289941788\n",
      "== epoch 12 ==\n"
     ]
    },
    {
     "name": "stderr",
     "output_type": "stream",
     "text": [
      "L:44.43824: 100%|██████████| 273/273 [07:30<00:00,  1.65s/it]\n"
     ]
    },
    {
     "name": "stdout",
     "output_type": "stream",
     "text": [
      "MSE Loss : 44.43823602050543\n"
     ]
    },
    {
     "name": "stderr",
     "output_type": "stream",
     "text": [
      "MAE:4.0977: 100%|██████████| 15/15 [00:08<00:00,  1.85it/s]\n",
      "  0%|          | 0/273 [00:00<?, ?it/s]"
     ]
    },
    {
     "name": "stdout",
     "output_type": "stream",
     "text": [
      "MAE Metric : 4.097705364227295\n",
      "== epoch 13 ==\n"
     ]
    },
    {
     "name": "stderr",
     "output_type": "stream",
     "text": [
      "L:42.45377: 100%|██████████| 273/273 [07:30<00:00,  1.65s/it]\n"
     ]
    },
    {
     "name": "stdout",
     "output_type": "stream",
     "text": [
      "MSE Loss : 42.45377168059349\n"
     ]
    },
    {
     "name": "stderr",
     "output_type": "stream",
     "text": [
      "MAE:3.9612: 100%|██████████| 15/15 [00:08<00:00,  1.85it/s]\n",
      "  0%|          | 0/273 [00:00<?, ?it/s]"
     ]
    },
    {
     "name": "stdout",
     "output_type": "stream",
     "text": [
      "MAE Metric : 3.961248055100441\n",
      "== epoch 14 ==\n"
     ]
    },
    {
     "name": "stderr",
     "output_type": "stream",
     "text": [
      "L:41.30293: 100%|██████████| 273/273 [07:30<00:00,  1.65s/it]\n"
     ]
    },
    {
     "name": "stdout",
     "output_type": "stream",
     "text": [
      "MSE Loss : 41.30292624235153\n"
     ]
    },
    {
     "name": "stderr",
     "output_type": "stream",
     "text": [
      "MAE:3.9646: 100%|██████████| 15/15 [00:08<00:00,  1.85it/s]\n",
      "  0%|          | 0/273 [00:00<?, ?it/s]"
     ]
    },
    {
     "name": "stdout",
     "output_type": "stream",
     "text": [
      "MAE Metric : 3.964647799730301\n",
      "== epoch 15 ==\n"
     ]
    },
    {
     "name": "stderr",
     "output_type": "stream",
     "text": [
      "L:40.28115: 100%|██████████| 273/273 [07:30<00:00,  1.65s/it]\n"
     ]
    },
    {
     "name": "stdout",
     "output_type": "stream",
     "text": [
      "MSE Loss : 40.281150080263615\n"
     ]
    },
    {
     "name": "stderr",
     "output_type": "stream",
     "text": [
      "MAE:3.9284: 100%|██████████| 15/15 [00:08<00:00,  1.85it/s]"
     ]
    },
    {
     "name": "stdout",
     "output_type": "stream",
     "text": [
      "MAE Metric : 3.928393468260765\n",
      "2018-04-26\n"
     ]
    },
    {
     "name": "stderr",
     "output_type": "stream",
     "text": [
      "\n"
     ]
    }
   ],
   "source": [
    "print(datetime.date.today())\n",
    "for num_iter in range(10,15):\n",
    "    print(\"== epoch {} ==\".format(num_iter+1))\n",
    "\n",
    "    # Training Model\n",
    "    pbar_train = tqdm(enumerate(hdf5_train_loader), total=len(hdf5_train_loader))\n",
    "    total_loss = 0.0    \n",
    "    for i, data in pbar_train:\n",
    "        src_img = Variable(torch.Tensor(data[0]))\n",
    "        trg_img = Variable(torch.Tensor(data[1]))\n",
    "\n",
    "        if torch.cuda.is_available():\n",
    "            src_img = src_img.cuda()\n",
    "            trg_img = trg_img.cuda()\n",
    "\n",
    "        optimizer.zero_grad() # reset optimizer\n",
    "        predict_img = model(src_img)\n",
    "       \n",
    "        loss = criterion(predict_img, trg_img)\n",
    "        loss.backward()\n",
    "\n",
    "        optimizer.step()\n",
    "        total_loss += loss.data[0]\n",
    "        pbar_train.set_description('L:{:.5f}'.format(total_loss))\n",
    "    print(\"MSE Loss : {}\".format(total_loss))\n",
    "        \n",
    "    # Save Model\n",
    "    torch.save(model.state_dict(), os.path.join(model_path,'cc_epoch_{}.mdl'.format(num_iter + 1)))\n",
    "\n",
    "    # Evaluate Model\n",
    "    pbar_test = tqdm(enumerate(hdf5_test_loader), total=len(hdf5_test_loader))\n",
    "    total_mae = 0.0\n",
    "    for j, data in pbar_test:\n",
    "        src_img = Variable(torch.Tensor(data[0]))\n",
    "        trg_img = Variable(torch.Tensor(data[1]))\n",
    "\n",
    "        if torch.cuda.is_available():\n",
    "            src_img = src_img.cuda()\n",
    "            trg_img = trg_img.cuda()\n",
    "\n",
    "        predict_img = model(src_img)\n",
    "        loss = metric(predict_img, trg_img)\n",
    "        total_mae += loss.data[0]\n",
    "\n",
    "        pbar_test.set_description(\"MAE:{:.4f}\".format(total_mae))\n",
    "    print(\"MAE Metric : {}\".format(total_mae))\n",
    "\n",
    "print(datetime.date.today())"
   ]
  },
  {
   "cell_type": "code",
   "execution_count": null,
   "metadata": {},
   "outputs": [],
   "source": []
  }
 ],
 "metadata": {
  "kernelspec": {
   "display_name": "Python [conda env:py36]",
   "language": "python",
   "name": "conda-env-py36-py"
  },
  "language_info": {
   "codemirror_mode": {
    "name": "ipython",
    "version": 3
   },
   "file_extension": ".py",
   "mimetype": "text/x-python",
   "name": "python",
   "nbconvert_exporter": "python",
   "pygments_lexer": "ipython3",
   "version": "3.6.3"
  }
 },
 "nbformat": 4,
 "nbformat_minor": 2
}
