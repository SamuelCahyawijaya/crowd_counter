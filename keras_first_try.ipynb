{
 "cells": [
  {
   "cell_type": "code",
   "execution_count": null,
   "metadata": {},
   "outputs": [],
   "source": [
    "import os\n",
    "import numpy as np\n",
    "import glob\n",
    "import random\n",
    "\n",
    "from keras.layers import Input, Dense, Dropout, Activation, Flatten, Conv2D, MaxPooling2D, AveragePooling2D, Merge, BatchNormalization\n",
    "from keras.layers.merge import Concatenate\n",
    "from keras.callbacks import Callback, TensorBoard\n",
    "from keras.models import Model\n",
    "#from preprocessing import load_data, preprocess_data\n",
    "\n",
    "from preprocessing import *\n",
    "from crowdnet import *\n",
    "from visualize import *"
   ]
  },
  {
   "cell_type": "code",
   "execution_count": null,
   "metadata": {},
   "outputs": [],
   "source": [
    "model_name = 'dcc_crowdnet'\n",
    "model_path = os.path.expanduser(os.path.join('models', model_name))\n",
    "data_path = os.path.expanduser(os.path.join('~/data', model_name))\n",
    "weights_path = os.path.expanduser(os.path.join('~/models', model_name))\n",
    "\n",
    "dataset_paths = ['dataset/UCF_CC_50']\n",
    "\n",
    "slice_w = 256\n",
    "slice_h = 256\n",
    "\n",
    "patch_w = 225\n",
    "patch_h = 225\n",
    "\n",
    "net_density_h = 28\n",
    "net_density_w = 28"
   ]
  },
  {
   "cell_type": "code",
   "execution_count": null,
   "metadata": {},
   "outputs": [],
   "source": [
    "#mean\n",
    "VGG_ILSVRC_16_layers_mean = np.zeros((3, patch_h, patch_w), dtype='f4')\n",
    "VGG_ILSVRC_16_layers_mean[0,:,:] = 103.939\n",
    "VGG_ILSVRC_16_layers_mean[1,:,:] = 116.779\n",
    "VGG_ILSVRC_16_layers_mean[2,:,:] = 123.68"
   ]
  },
  {
   "cell_type": "code",
   "execution_count": null,
   "metadata": {},
   "outputs": [],
   "source": [
    "# Positive image and ground truth loading\n",
    "X_fs = []\n",
    "Y_fs = []\n",
    "\n",
    "for path in dataset_paths:\n",
    "    images, gts, densities = load_images_and_gts(path)\n",
    "    X_fs += images\n",
    "    Y_fs += densities"
   ]
  },
  {
   "cell_type": "code",
   "execution_count": null,
   "metadata": {},
   "outputs": [],
   "source": [
    "# Split test an train set\n",
    "from sklearn.model_selection import train_test_split\n",
    "\n",
    "# Train 80%, Test 20%\n",
    "X_fs_train, X_fs_test, Y_fs_train, Y_fs_test = train_test_split(X_fs, Y_fs, test_size=0.2)"
   ]
  },
  {
   "cell_type": "code",
   "execution_count": null,
   "metadata": {},
   "outputs": [],
   "source": [
    "# FS: FULL SIZE\n",
    "X_train, Y_train = X_fs_train, Y_fs_train\n",
    "X_test, Y_test = X_fs_test, Y_fs_test\n",
    "\n",
    "# DATA AUGMENTATION\n",
    "print ('\\nMultiscale pyramidal')\n",
    "print ('TRAIN:')\n",
    "X_train, Y_train = multiscale_pyramidal(X_train, Y_train)\n",
    "print (len(X_train), len(Y_train))\n",
    "print ('TEST:')\n",
    "X_test, Y_test = multiscale_pyramidal(X_test, Y_test)\n",
    "print (len(X_test), len(Y_test))\n",
    "\n",
    "# PATCH SIZE\n",
    "print ('\\nGenerate slices')\n",
    "print ('TRAIN:')\n",
    "X_train, Y_train = generate_slices(X_train, Y_train, slice_w=patch_w, slice_h=patch_h, offset=8)\n",
    "print (len(X_train), len(Y_train))\n",
    "print ('TEST:')\n",
    "X_test, Y_test = generate_slices(X_test, Y_test, slice_w=patch_w, slice_h=patch_h)\n",
    "print (len(X_test), len(Y_test))\n",
    "\n",
    "print ('\\nFlip')\n",
    "print ('TRAIN:')\n",
    "X_train, Y_train = flip_slices(X_train, Y_train)\n",
    "print (len(X_train), len(Y_train))\n",
    "print ('TEST:')\n",
    "X_test, Y_test = flip_slices(X_test, Y_test)\n",
    "print (len(X_test), len(Y_test))\n",
    "\n",
    "print ('\\nSamples gt distribution correction')\n",
    "print ('TRAIN:')\n",
    "X_train, Y_train = samples_distribution(X_train, Y_train)\n",
    "print (len(X_train), len(Y_train))\n",
    "\n",
    "print ('\\nShuffle')\n",
    "print ('TRAIN:')\n",
    "X_train, Y_train = shuffle_slices(X_train, Y_train)\n",
    "print (len(X_train), len(Y_train))\n",
    "print ('TEST:')\n",
    "X_test, y_test = shuffle_slices(X_test, Y_test)\n",
    "print (len(X_test), len(Y_test))"
   ]
  },
  {
   "cell_type": "code",
   "execution_count": null,
   "metadata": {},
   "outputs": [],
   "source": [
    "#Plot TRAIN samples distribution\n",
    "from matplotlib import pyplot as plt\n",
    "\n",
    "Y_train_sum = list(filter(lambda x: True, map(np.sum, Y_train)))\n",
    "Y_train_sum.sort()\n",
    "plt.plot(Y_train_sum)\n",
    "plt.show()"
   ]
  },
  {
   "cell_type": "code",
   "execution_count": null,
   "metadata": {},
   "outputs": [],
   "source": [
    "# Train\n",
    "print ('TRAIN:')\n",
    "process_dump_to_hdf5data(X_train, Y_train, data_path, 'train', VGG_ILSVRC_16_layers_mean)\n",
    "# Test\n",
    "print ('TEST:')\n",
    "process_dump_to_hdf5data(X_test, Y_test, data_path, 'test', VGG_ILSVRC_16_layers_mean)"
   ]
  },
  {
   "cell_type": "code",
   "execution_count": null,
   "metadata": {},
   "outputs": [],
   "source": [
    "vis_square(list_to_np_array(X_train[:20]))"
   ]
  },
  {
   "cell_type": "code",
   "execution_count": null,
   "metadata": {},
   "outputs": [],
   "source": [
    "#visualize one random density\n",
    "i = int(random.random()*len(Y_train))\n",
    "print (i)\n",
    "print (np.sum(Y_train[i]))\n",
    "plt.imshow(np.fliplr(Y_train[i]))"
   ]
  },
  {
   "cell_type": "code",
   "execution_count": null,
   "metadata": {},
   "outputs": [],
   "source": [
    "batch_size=1\n",
    "model = create_model(batch_size)"
   ]
  },
  {
   "cell_type": "code",
   "execution_count": null,
   "metadata": {},
   "outputs": [],
   "source": [
    "tensorboard_callback = TensorBoard(log_dir='./output', write_graph=True, write_images=True)"
   ]
  },
  {
   "cell_type": "code",
   "execution_count": null,
   "metadata": {},
   "outputs": [],
   "source": [
    "model.fit(np.array(X_train), np.array(np.expand_dims(Y_train, axis=-1)), epochs=100000, batch_size=batch_size)"
   ]
  },
  {
   "cell_type": "code",
   "execution_count": null,
   "metadata": {},
   "outputs": [],
   "source": []
  },
  {
   "cell_type": "code",
   "execution_count": null,
   "metadata": {},
   "outputs": [],
   "source": []
  }
 ],
 "metadata": {
  "kernelspec": {
   "display_name": "Python 3",
   "language": "python",
   "name": "python3"
  },
  "language_info": {
   "codemirror_mode": {
    "name": "ipython",
    "version": 3
   },
   "file_extension": ".py",
   "mimetype": "text/x-python",
   "name": "python",
   "nbconvert_exporter": "python",
   "pygments_lexer": "ipython3",
   "version": "3.6.4"
  }
 },
 "nbformat": 4,
 "nbformat_minor": 2
}
