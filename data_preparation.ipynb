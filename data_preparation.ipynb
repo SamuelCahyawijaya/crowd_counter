{
 "cells": [
  {
   "cell_type": "code",
   "execution_count": 1,
   "metadata": {},
   "outputs": [],
   "source": [
    "import os\n",
    "import numpy as np\n",
    "import glob\n",
    "import random\n",
    "\n",
    "from preprocessing import *\n",
    "from visualize import *\n",
    "\n",
    "from matplotlib import pyplot as plt"
   ]
  },
  {
   "cell_type": "code",
   "execution_count": 2,
   "metadata": {},
   "outputs": [],
   "source": [
    "model_name = 'dcc_crowdnet'\n",
    "model_path = os.path.expanduser(os.path.join('models', model_name))\n",
    "data_path = os.path.expanduser(os.path.join('~/data/', model_name))\n",
    "weights_path = os.path.expanduser(os.path.join('~/models/', model_name))\n",
    "\n",
    "dataset_paths = ['dataset/UCF_CC_50/']\n",
    "\n",
    "slice_w = 256\n",
    "slice_h = 256\n",
    "\n",
    "patch_w = 225\n",
    "patch_h = 225\n",
    "\n",
    "net_density_h = 28\n",
    "net_density_w = 28"
   ]
  },
  {
   "cell_type": "code",
   "execution_count": 3,
   "metadata": {},
   "outputs": [],
   "source": [
    "#mean\n",
    "VGG_ILSVRC_16_layers_mean = np.zeros((3, patch_h, patch_w), dtype='f4')\n",
    "VGG_ILSVRC_16_layers_mean[0,:,:] = 103.939\n",
    "VGG_ILSVRC_16_layers_mean[1,:,:] = 116.779\n",
    "VGG_ILSVRC_16_layers_mean[2,:,:] = 123.68"
   ]
  },
  {
   "cell_type": "code",
   "execution_count": 4,
   "metadata": {},
   "outputs": [
    {
     "name": "stdout",
     "output_type": "stream",
     "text": [
      "dataset/UCF_CC_50/20.json\n",
      "dataset/UCF_CC_50/20.json 62.50520805512529 637.2357512953367 (<class 'IndexError'>, IndexError('index 637 is out of bounds for axis 1 with size 600',), <traceback object at 0x117b84488>)\n",
      "(384, 600)\n",
      "dataset/UCF_CC_50/36.json\n",
      "(768, 1024)\n",
      "dataset/UCF_CC_50/41.json\n",
      "(656, 1024)\n",
      "dataset/UCF_CC_50/16.json\n",
      "(600, 800)\n",
      "dataset/UCF_CC_50/6.json\n",
      "(768, 1024)\n",
      "dataset/UCF_CC_50/7.json\n",
      "(424, 600)\n",
      "dataset/UCF_CC_50/17.json\n",
      "dataset/UCF_CC_50/17.json 395.77461139896366 1024.3341968911911 (<class 'IndexError'>, IndexError('index 1024 is out of bounds for axis 1 with size 1024',), <traceback object at 0x1178eba88>)\n",
      "(768, 1024)\n"
     ]
    },
    {
     "name": "stderr",
     "output_type": "stream",
     "text": [
      "ERROR:root:Internal Python error in the inspect module.\n",
      "Below is the traceback from this internal error.\n",
      "\n"
     ]
    },
    {
     "name": "stdout",
     "output_type": "stream",
     "text": [
      "Traceback (most recent call last):\n",
      "  File \"/usr/local/Cellar/python3/3.6.1/Frameworks/Python.framework/Versions/3.6/lib/python3.6/site-packages/IPython/core/interactiveshell.py\", line 2910, in run_code\n",
      "    exec(code_obj, self.user_global_ns, self.user_ns)\n",
      "  File \"<ipython-input-4-8853e0f5002d>\", line 6, in <module>\n",
      "    images, gts, densities = load_images_and_gts(path)\n",
      "  File \"/Users/samuelcahyawijaya/htdocs/python/crowd_counter/preprocessing.py\", line 59, in load_images_and_gts\n",
      "    density = gaussian_filter_density([gt])[0]\n",
      "  File \"/Users/samuelcahyawijaya/htdocs/python/crowd_counter/preprocessing.py\", line 237, in gaussian_filter_density\n",
      "    density += scipy.ndimage.filters.gaussian_filter(pt2d, sigma, mode='constant')\n",
      "  File \"/usr/local/Cellar/python3/3.6.1/Frameworks/Python.framework/Versions/3.6/lib/python3.6/site-packages/scipy/ndimage/filters.py\", line 344, in gaussian_filter\n",
      "    mode, cval, truncate)\n",
      "  File \"/usr/local/Cellar/python3/3.6.1/Frameworks/Python.framework/Versions/3.6/lib/python3.6/site-packages/scipy/ndimage/filters.py\", line 258, in gaussian_filter1d\n",
      "    return correlate1d(input, weights, axis, output, mode, cval, 0)\n",
      "  File \"/usr/local/Cellar/python3/3.6.1/Frameworks/Python.framework/Versions/3.6/lib/python3.6/site-packages/scipy/ndimage/filters.py\", line 154, in correlate1d\n",
      "    origin)\n",
      "KeyboardInterrupt\n",
      "\n",
      "During handling of the above exception, another exception occurred:\n",
      "\n",
      "Traceback (most recent call last):\n",
      "  File \"/usr/local/Cellar/python3/3.6.1/Frameworks/Python.framework/Versions/3.6/lib/python3.6/site-packages/IPython/core/interactiveshell.py\", line 1828, in showtraceback\n",
      "    stb = value._render_traceback_()\n",
      "AttributeError: 'KeyboardInterrupt' object has no attribute '_render_traceback_'\n",
      "\n",
      "During handling of the above exception, another exception occurred:\n",
      "\n",
      "Traceback (most recent call last):\n",
      "  File \"/usr/local/Cellar/python3/3.6.1/Frameworks/Python.framework/Versions/3.6/lib/python3.6/site-packages/IPython/core/ultratb.py\", line 1090, in get_records\n",
      "    return _fixed_getinnerframes(etb, number_of_lines_of_context, tb_offset)\n",
      "  File \"/usr/local/Cellar/python3/3.6.1/Frameworks/Python.framework/Versions/3.6/lib/python3.6/site-packages/IPython/core/ultratb.py\", line 311, in wrapped\n",
      "    return f(*args, **kwargs)\n",
      "  File \"/usr/local/Cellar/python3/3.6.1/Frameworks/Python.framework/Versions/3.6/lib/python3.6/site-packages/IPython/core/ultratb.py\", line 345, in _fixed_getinnerframes\n",
      "    records = fix_frame_records_filenames(inspect.getinnerframes(etb, context))\n",
      "  File \"/usr/local/Cellar/python3/3.6.1/Frameworks/Python.framework/Versions/3.6/lib/python3.6/inspect.py\", line 1453, in getinnerframes\n",
      "    frameinfo = (tb.tb_frame,) + getframeinfo(tb, context)\n",
      "  File \"/usr/local/Cellar/python3/3.6.1/Frameworks/Python.framework/Versions/3.6/lib/python3.6/inspect.py\", line 1411, in getframeinfo\n",
      "    filename = getsourcefile(frame) or getfile(frame)\n",
      "  File \"/usr/local/Cellar/python3/3.6.1/Frameworks/Python.framework/Versions/3.6/lib/python3.6/inspect.py\", line 666, in getsourcefile\n",
      "    if getattr(getmodule(object, filename), '__loader__', None) is not None:\n",
      "  File \"/usr/local/Cellar/python3/3.6.1/Frameworks/Python.framework/Versions/3.6/lib/python3.6/inspect.py\", line 712, in getmodule\n",
      "    os.path.realpath(f)] = module.__name__\n",
      "  File \"/usr/local/Cellar/python3/3.6.1/Frameworks/Python.framework/Versions/3.6/lib/python3.6/posixpath.py\", line 386, in realpath\n",
      "    path, ok = _joinrealpath(filename[:0], filename, {})\n",
      "  File \"/usr/local/Cellar/python3/3.6.1/Frameworks/Python.framework/Versions/3.6/lib/python3.6/posixpath.py\", line 420, in _joinrealpath\n",
      "    if not islink(newpath):\n",
      "  File \"/usr/local/Cellar/python3/3.6.1/Frameworks/Python.framework/Versions/3.6/lib/python3.6/posixpath.py\", line 169, in islink\n",
      "    st = os.lstat(path)\n",
      "KeyboardInterrupt\n"
     ]
    },
    {
     "ename": "KeyboardInterrupt",
     "evalue": "",
     "output_type": "error",
     "traceback": [
      "\u001b[0;31m---------------------------------------------------------------------------\u001b[0m"
     ]
    }
   ],
   "source": [
    "# Positive image and ground truth loading\n",
    "X_fs = []\n",
    "Y_fs = []\n",
    "\n",
    "for path in dataset_paths:\n",
    "    images, gts, densities = load_images_and_gts(path)\n",
    "    X_fs += images\n",
    "    Y_fs += densities"
   ]
  },
  {
   "cell_type": "code",
   "execution_count": null,
   "metadata": {},
   "outputs": [],
   "source": [
    "# Split test an train set\n",
    "from sklearn.model_selection import train_test_split\n",
    "\n",
    "# Train 80%, Test 20%\n",
    "X_fs_train, X_fs_test, Y_fs_train, Y_fs_test = train_test_split(X_fs, Y_fs, test_size=0.2)"
   ]
  },
  {
   "cell_type": "code",
   "execution_count": null,
   "metadata": {},
   "outputs": [],
   "source": [
    "# FS: FULL SIZE\n",
    "X_train, Y_train = X_fs_train, Y_fs_train\n",
    "X_test, Y_test = X_fs_test, Y_fs_test\n",
    "\n",
    "# DATA AUGMENTATION\n",
    "print ('\\nMultiscale pyramidal')\n",
    "print ('TRAIN:')\n",
    "X_train, Y_train = multiscale_pyramidal(X_train, Y_train)\n",
    "print (len(X_train), len(Y_train))\n",
    "print ('TEST:')\n",
    "X_test, Y_test = multiscale_pyramidal(X_test, Y_test)\n",
    "print (len(X_test), len(Y_test))\n",
    "\n",
    "# PATCH SIZE\n",
    "print ('\\nGenerate slices')\n",
    "print ('TRAIN:')\n",
    "X_train, Y_train = generate_slices(X_train, Y_train, slice_w=patch_w, slice_h=patch_h, offset=8)\n",
    "print (len(X_train), len(Y_train))\n",
    "print ('TEST:')\n",
    "X_test, Y_test = generate_slices(X_test, Y_test, slice_w=patch_w, slice_h=patch_h)\n",
    "print (len(X_test), len(Y_test))\n",
    "\n",
    "print ('\\nFlip')\n",
    "print ('TRAIN:')\n",
    "X_train, Y_train = flip_slices(X_train, Y_train)\n",
    "print (len(X_train), len(Y_train))\n",
    "print ('TEST:')\n",
    "X_test, Y_test = flip_slices(X_test, Y_test)\n",
    "print (len(X_test), len(Y_test))\n",
    "\n",
    "print ('\\nSamples gt distribution correction')\n",
    "print ('TRAIN:')\n",
    "X_train, Y_train = samples_distribution(X_train, Y_train)\n",
    "print (len(X_train), len(Y_train))\n",
    "\n",
    "print ('\\nShuffle')\n",
    "print ('TRAIN:')\n",
    "X_train, Y_train = shuffle_slices(X_train, Y_train)\n",
    "print (len(X_train), len(Y_train))\n",
    "print ('TEST:')\n",
    "X_test, Y_test = shuffle_slices(X_test, Y_test)\n",
    "print (len(X_test), len(Y_test))"
   ]
  },
  {
   "cell_type": "code",
   "execution_count": null,
   "metadata": {},
   "outputs": [],
   "source": [
    "vis_square(list_to_np_array(X_train[:20]))"
   ]
  },
  {
   "cell_type": "code",
   "execution_count": null,
   "metadata": {},
   "outputs": [],
   "source": [
    "Y_train_sum = list(filter(lambda x: True, map(np.sum, Y_train)))\n",
    "Y_train_sum.sort()\n",
    "plt.plot(Y_train_sum)\n",
    "plt.show()"
   ]
  },
  {
   "cell_type": "code",
   "execution_count": null,
   "metadata": {},
   "outputs": [],
   "source": [
    "# Train\n",
    "print ('TRAIN:')\n",
    "process_dump_to_hdf5data(X_train, Y_train, data_path, 'train', VGG_ILSVRC_16_layers_mean)\n",
    "# Test\n",
    "print ('TEST:')\n",
    "process_dump_to_hdf5data(X_test, Y_test, data_path, 'test', VGG_ILSVRC_16_layers_mean)"
   ]
  }
 ],
 "metadata": {
  "kernelspec": {
   "display_name": "Python 3",
   "language": "python",
   "name": "python3"
  },
  "language_info": {
   "codemirror_mode": {
    "name": "ipython",
    "version": 3
   },
   "file_extension": ".py",
   "mimetype": "text/x-python",
   "name": "python",
   "nbconvert_exporter": "python",
   "pygments_lexer": "ipython3",
   "version": "3.6.1"
  }
 },
 "nbformat": 4,
 "nbformat_minor": 2
}
